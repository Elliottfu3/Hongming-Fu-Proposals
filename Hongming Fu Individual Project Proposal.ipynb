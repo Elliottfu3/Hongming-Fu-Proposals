{
 "cells": [
  {
   "cell_type": "markdown",
   "id": "0d0d3f25",
   "metadata": {},
   "source": [
    "**Key statistics and interesting findings in the database**\n",
    "First, I analyzed the data values of the database and summarized some useful information. First of all, regarding the demographic characteristics of this database, the average age of the participants in the survey is about 47 years old, ranging from 16 to 96 years old. At the same time, the survey sample contains a variety of gender or sexual orientation identities to ensure the diversity of the statistical survey. Next, I observed and counted the average score of life satisfaction, which is about 6.18 points, with a full score of 10 points. I think this shows that most people feel moderate or high satisfaction with life. To my surprise, there are large differences in the self-image and emotional control scores in mental health, which I think is caused by the different mentality of the participants. Finally, on the Big Five Personality Scale, the participants scored higher in openness, conscientiousness, and agreeableness, while neuroticism and extraversion scored slightly lower. These data may indicate that individuals in the sample may be more inclined to innovative, reliable, and easygoing personality traits."
   ]
  },
  {
   "cell_type": "markdown",
   "id": "d89fa881",
   "metadata": {},
   "source": [
    "**One-sample hypothesis test**\n",
    "I conducted a one-sample hypothesis test assuming that the variable UNIQUE_num_records has a population mean of 50. The confidence interval of the Bootstrap calculation result is\n",
    "[1.198,1.221], not including the assumed mean of 50. Therefore, I reject the null hypothesis that the population mean of this variable is significantly different from 50.\n",
    "\n",
    "**Hypothesis**\n",
    "In the hypothesis section, I want to perform a one-sample mean hypothesis test on the variable `UNIQUE_num_records` to verify whether its mean is equal to a certain value. First, set the null hypothesis H0, which means that the population mean of `UNIQUE_num_records` is equal to a given value. Here, I set this value to 50. Then let the population mean be μ, then the null hypothesis can be expressed as H0:μ= 50 \\). The null hypothesis assumes that the mean is equal to a certain value, based on my initial theory, known benchmark values, or expected values. Then set the alternative hypothesis Ha: The alternative hypothesis is that the population mean of `UNIQUE_num_records` is not equal to the given value. Here I perform a two-tailed test, and I only investigate whether the mean is different from the given value. In the hypothesis section, the last test target is to calculate the Bootstrap confidence interval (CI) of the mean of the variable to determine whether the null hypothesis can be rejected. I calculate a 95% confidence interval. My conclusion is: if the confidence interval contains the hypothesized mean of 50, I do not reject H0 and believe that the data supports that the mean of `UNIQUE_num_records` may indeed be 50. However, if the confidence interval does not contain 50, I reject H0 and believe that the mean of `UNIQUE_num_records` is significantly different from 50.\n",
    "\n",
    "**Calculate Bootstrap CI**\n",
    "I use the Bootstrap method to calculate the confidence interval (CI) for the mean of UNIQUE_num_records. By sampling multiple times and calculating the mean, I finally get a confidence interval for the estimated mean.\n",
    "\n",
    "**Determine**\n",
    "If the calculated confidence interval contains the hypothesized mean of 50, I do not reject the null hypothesis\n",
    "𝐻0, and if the confidence interval does not contain 50, I will reject 𝐻0. The 95% confidence interval for the mean of UNIQUE_num_records calculated by the bootstrap method is\n",
    "[1.198,1.221]. Since the hypothesized mean of 50 is not within this confidence interval, I reject the null hypothesis 𝐻0."
   ]
  },
  {
   "cell_type": "markdown",
   "id": "724b84c5",
   "metadata": {},
   "source": [
    "**Two-sample hypothesis test**\n",
    "\n",
    "**Hypothesis**\n",
    "\n",
    "The goal of hypothesis testing is to test whether the means of numerical variables between two groups divided by dichotomous variables are equal. Set the null hypothesis 𝐻0: the means of the two groups are equal. Then record the overall mean of the numerical variable in the two groups as 𝜇1 and 𝜇2 respectively, then the null hypothesis can be expressed as 𝐻0:𝜇1=𝜇2, and then set the alternative hypothesis H𝑎: the means of the two groups are different. The alternative hypothesis is expressed as\n",
    "𝐻𝑎:𝜇1≠𝜇2 , that is to say, there is a significant mean difference between the two groups.\n",
    "\n",
    "**Calculate**\n",
    "\n",
    "I then calculated the mean and standard deviation of the two sets of samples. Use a two-sample t-test (independent-samples t-test) to compare the differences in means between two groups, assuming unequal variances. Obtain a p-value and decide whether to reject the null hypothesis based on the significance level (usually 0.05).\n",
    "\n",
    "**Determine**\n",
    "\n",
    "If the p-value is less than the significance level 0.05, the null hypothesis 𝐻0 is rejected and there is a significant difference between the two sets of means. If the p-value is greater than or equal to 0.05, 𝐻0 is not rejected and the data are considered to support the hypothesis that the two sets of means are likely to be equal.\n",
    "\n",
    "**Summary**\n",
    "\n",
    "I chose the numeric variable UNIQUE_num_records and the dichotomous variable SURVEY_collection_type for analysis. After calculation, a two-sample t-test yields a statistic of falcon=−127.54 and a p-value close to 0. Because the p value is significantly less than 0.05, the null hypothesis 𝐻0 is rejected, and it is believed that there is a significant difference in the means of UNIQUE_num_records under different groups of SURVEY_collection_type.\n"
   ]
  },
  {
   "cell_type": "markdown",
   "id": "4cdfdb83",
   "metadata": {},
   "source": [
    "**Simple linear regression**\n",
    "\n",
    "**Hypothesis**\n",
    "\n",
    "I selected two numeric variables to establish a simple linear regression model. \n",
    "Null hypothesis H_0: The regression coefficient β1 = 0 , meaning there is no linear relationship between the independent variable X  and the dependent variable Y .Then the Alternative hypothesis Ha: The regression coefficient β1 \\ϵ0 , indicating a linear relationship exists between  X and Y.\n",
    "\n",
    "**Calculation**\n",
    "After calculate, The slope (regression coefficient) is 0.762, and the intercept is 0.832.\n",
    "Then The positive slope β1 = 0.762 \\) suggests a positive correlation between X and Y , meaning that as X increases, Y also tends to increase.\n",
    "The p-value is extremely small ,approximately  1.32x10^{-136} , well below 0.05, indicating that the relationship is statistically significant.\n",
    "The  R^2  value is 0.213, suggesting that the independent variable  X  explains about 21.3% of the variance in the dependent variable Y .\n",
    "\n",
    "**Determine**\n",
    "\n",
    "Since the p-value is extremely small, the null hypothesis is rejected and it is considered that there is a significant positive linear relationship between 𝑋 and 𝑌. With this model, 𝑌 can be predicted using the value of 𝑋."
   ]
  }
 ],
 "metadata": {
  "kernelspec": {
   "display_name": "Python 3 (ipykernel)",
   "language": "python",
   "name": "python3"
  },
  "language_info": {
   "codemirror_mode": {
    "name": "ipython",
    "version": 3
   },
   "file_extension": ".py",
   "mimetype": "text/x-python",
   "name": "python",
   "nbconvert_exporter": "python",
   "pygments_lexer": "ipython3",
   "version": "3.11.6"
  }
 },
 "nbformat": 4,
 "nbformat_minor": 5
}
